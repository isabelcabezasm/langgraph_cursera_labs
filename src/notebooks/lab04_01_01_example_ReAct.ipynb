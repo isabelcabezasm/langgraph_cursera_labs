{
 "cells": [
  {
   "cell_type": "code",
   "execution_count": 1,
   "id": "048e9fc9",
   "metadata": {},
   "outputs": [],
   "source": [
    "from langchain_core.prompts import ChatPromptTemplate, MessagesPlaceholder\n",
    "from langchain_core.messages import BaseMessage, HumanMessage, ToolMessage\n",
    "\n",
    "from langgraph.graph import StateGraph, END\n",
    "\n",
    "from typing import (Annotated,Sequence,TypedDict)\n",
    "from langchain_core.messages import BaseMessage\n",
    "from langgraph.graph.message import add_messages\n",
    "\n",
    "from langchain_openai import AzureChatOpenAI\n",
    "from langchain_community.tools.tavily_search import TavilySearchResults\n",
    "from langchain.tools import tool\n",
    "import os\n",
    "import json"
   ]
  },
  {
   "cell_type": "markdown",
   "id": "fa750090",
   "metadata": {},
   "source": [
    "tool 1: web search"
   ]
  },
  {
   "cell_type": "code",
   "execution_count": 2,
   "id": "5a53ac20",
   "metadata": {},
   "outputs": [],
   "source": [
    "# Initialize the Tavily search tool\n",
    "search = TavilySearchResults()\n",
    "\n",
    "@tool\n",
    "def search_tool(query: str):\n",
    "    \"\"\"\n",
    "    Search the web for information using Tavily API.\n",
    "\n",
    "    :param query: The search query string\n",
    "    :return: Search results related to the query\n",
    "    \"\"\"\n",
    "    return search.invoke(query)\n",
    "\n",
    "# Example usage\n",
    "# uncomment the line below to test the search tool\n",
    "# search_tool.invoke(\"What's the weather like in Tokyo today?\")\n"
   ]
  },
  {
   "cell_type": "markdown",
   "id": "b7cf77f2",
   "metadata": {},
   "source": [
    "tool 2: clothing recommendation"
   ]
  },
  {
   "cell_type": "code",
   "execution_count": 3,
   "id": "7ffd0dc9",
   "metadata": {},
   "outputs": [],
   "source": [
    "@tool\n",
    "def recommend_clothing(weather: str) -> str:\n",
    "    \"\"\"\n",
    "    Returns a clothing recommendation based on the provided weather description.\n",
    "\n",
    "    This function examines the input string for specific keywords or temperature indicators \n",
    "    (e.g., \"snow\", \"freezing\", \"rain\", \"85°F\") to suggest appropriate attire. It handles \n",
    "    common weather conditions like snow, rain, heat, and cold by providing simple and practical \n",
    "    clothing advice.\n",
    "\n",
    "    :param weather: A brief description of the weather (e.g., \"Overcast, 64.9°F\")\n",
    "    :return: A string with clothing recommendations suitable for the weather\n",
    "    \"\"\"\n",
    "    weather = weather.lower()\n",
    "    if \"snow\" in weather or \"freezing\" in weather:\n",
    "        return \"Wear a heavy coat, gloves, and boots.\"\n",
    "    elif \"rain\" in weather or \"wet\" in weather:\n",
    "        return \"Bring a raincoat and waterproof shoes.\"\n",
    "    elif \"hot\" in weather or \"85\" in weather:\n",
    "        return \"T-shirt, shorts, and sunscreen recommended.\"\n",
    "    elif \"cold\" in weather or \"50\" in weather:\n",
    "        return \"Wear a warm jacket or sweater.\"\n",
    "    else:\n",
    "        return \"A light jacket should be fine.\""
   ]
  },
  {
   "cell_type": "markdown",
   "id": "9bbf4e3f",
   "metadata": {},
   "source": [
    "tool registry"
   ]
  },
  {
   "cell_type": "code",
   "execution_count": 4,
   "id": "0964774a",
   "metadata": {},
   "outputs": [],
   "source": [
    "tools=[search_tool,recommend_clothing]\n",
    "\n",
    "tools_by_name={ tool.name:tool for tool in tools}"
   ]
  },
  {
   "cell_type": "markdown",
   "id": "366c1b5a",
   "metadata": {},
   "source": [
    "AI model\n"
   ]
  },
  {
   "cell_type": "code",
   "execution_count": 5,
   "id": "7c6f9661",
   "metadata": {},
   "outputs": [
    {
     "name": "stdout",
     "output_type": "stream",
     "text": [
      "After greeting: [HumanMessage(content='Hi', additional_kwargs={}, response_metadata={}, id='32a9cfb6-bb1f-4c0d-8819-8d36b4368140')]\n",
      "After question: {'messages': [HumanMessage(content='Hi', additional_kwargs={}, response_metadata={}, id='32a9cfb6-bb1f-4c0d-8819-8d36b4368140'), HumanMessage(content='Weather in NYC?', additional_kwargs={}, response_metadata={}, id='8237ab8b-d47e-4441-9d7f-c62ea2aff694')]}\n"
     ]
    }
   ],
   "source": [
    "# Configure ChatOpenAI for Azure OpenAI\n",
    "deployment_name = \"gpt-4o-mini\"  # Replace with your actual deployment name\n",
    "\n",
    "openai_llm = AzureChatOpenAI(\n",
    "    azure_deployment=deployment_name,\n",
    "    api_version=os.getenv(\"OPENAI_API_VERSION\"),\n",
    "    azure_endpoint=os.getenv(\"AZURE_OPENAI_ENDPOINT\"),\n",
    "    api_key=os.getenv(\"AZURE_OPENAI_API_KEY\"),\n",
    "    temperature=0.7,\n",
    "    model_name=deployment_name,\n",
    "    max_retries=3,\n",
    "    request_timeout=120,\n",
    "    max_tokens=1024,\n",
    "    top_p=0.95   \n",
    ")\n",
    "\n",
    "\n",
    "chat_prompt = ChatPromptTemplate.from_messages([\n",
    "    (\"system\", \"\"\"\n",
    "You are a helpful AI assistant that thinks step-by-step and uses tools when needed.\n",
    "\n",
    "When responding to queries:\n",
    "1. First, think about what information you need\n",
    "2. Use available tools if you need current data or specific capabilities  \n",
    "3. Provide clear, helpful responses based on your reasoning and any tool results\n",
    "\n",
    "Always explain your thinking process to help users understand your approach.\n",
    "\"\"\"),\n",
    "    MessagesPlaceholder(variable_name=\"scratch_pad\")\n",
    "])\n",
    "\n",
    "# binding the tools to the LLM\n",
    "model_react = chat_prompt | openai_llm.bind_tools(tools)\n",
    "\n",
    "# Agent state:\n",
    "\n",
    "\n",
    "class AgentState(TypedDict):\n",
    "    \"\"\"The state of the agent.\"\"\"\n",
    "    # add_messages is a reducer\n",
    "    # See https://langchain-ai.github.io/langgraph/concepts/low_level/#reducers\n",
    "    messages: Annotated[Sequence[BaseMessage], add_messages]\n",
    "\n",
    "\n",
    "# Example conversation flow:\n",
    "state: AgentState = {\"messages\": []}\n",
    "\n",
    "# append a message using the reducer properly\n",
    "state[\"messages\"] = add_messages(state[\"messages\"], [HumanMessage(content=\"Hi\")])\n",
    "print(\"After greeting:\", state[\"messages\"])\n",
    "\n",
    "# add another message (e.g. a question)\n",
    "state[\"messages\"] = add_messages(state[\"messages\"], [HumanMessage(content=\"Weather in NYC?\")])\n",
    "print(\"After question:\", (state))"
   ]
  },
  {
   "cell_type": "markdown",
   "id": "b12393e1",
   "metadata": {},
   "source": [
    "this is the ReAct manual execution, to understand the flow."
   ]
  },
  {
   "cell_type": "code",
   "execution_count": 6,
   "id": "2f2e219e",
   "metadata": {},
   "outputs": [
    {
     "name": "stdout",
     "output_type": "stream",
     "text": [
      "Tool call: {'name': 'search_tool', 'args': {'query': 'current weather in Zurich'}, 'id': 'call_SuO0Xp8hxsVMZ8kbzCAMyVtv', 'type': 'tool_call'}\n",
      "Tool result preview: Zurich weather in September 2025 - Weather25.com\n",
      "Final response generated: True\n",
      "More tools needed: False\n"
     ]
    }
   ],
   "source": [
    "# 1. initial query processing\n",
    "dummy_state: AgentState = {\n",
    "    \"messages\": [HumanMessage( \"What's the weather like in Zurich, and what should I wear based on the temperature?\")]}\n",
    "\n",
    "response = model_react.invoke({\"scratch_pad\":dummy_state[\"messages\"]})\n",
    "dummy_state[\"messages\"]=add_messages(dummy_state[\"messages\"],[response])\n",
    "\n",
    "\n",
    "# 2. tool execution\n",
    "tool_call = response.tool_calls[-1]\n",
    "print(\"Tool call:\", tool_call)\n",
    "\n",
    "tool_result = tools_by_name[tool_call[\"name\"]].invoke(tool_call[\"args\"])\n",
    "print(\"Tool result preview:\", tool_result[0]['title'])\n",
    "\n",
    "tool_message = ToolMessage(\n",
    "    content=json.dumps(tool_result),\n",
    "    name=tool_call[\"name\"],\n",
    "    tool_call_id=tool_call[\"id\"]\n",
    ")\n",
    "dummy_state[\"messages\"] = add_messages(dummy_state[\"messages\"], [tool_message])\n",
    "\n",
    "\n",
    "# 3. processing Results and Next Action\n",
    "response = model_react.invoke({\"scratch_pad\": dummy_state[\"messages\"]})\n",
    "dummy_state['messages'] = add_messages(dummy_state['messages'], [response])\n",
    "\n",
    "# check if the model wants to use another tool\n",
    "if response.tool_calls:\n",
    "    tool_call = response.tool_calls[0]\n",
    "    tool_result = tools_by_name[tool_call[\"name\"]].invoke(tool_call[\"args\"])\n",
    "    tool_message = ToolMessage(\n",
    "        content=json.dumps(tool_result),\n",
    "        name=tool_call[\"name\"],\n",
    "        tool_call_id=tool_call[\"id\"]\n",
    "    )\n",
    "    dummy_state['messages'] = add_messages(dummy_state['messages'], [tool_message])\n",
    "\n",
    "\n",
    "# 4. Final response generation\n",
    "response = model_react.invoke({\"scratch_pad\": dummy_state[\"messages\"]})\n",
    "print(\"Final response generated:\", response.content is not None)\n",
    "print(\"More tools needed:\", bool(response.tool_calls))"
   ]
  },
  {
   "cell_type": "markdown",
   "id": "cb3b63a2",
   "metadata": {},
   "source": [
    "Now, let's automate ReAct with Graphs"
   ]
  },
  {
   "cell_type": "code",
   "execution_count": 7,
   "id": "c8312168",
   "metadata": {},
   "outputs": [],
   "source": [
    "# tool execution node\n",
    "def tool_node(state: AgentState):\n",
    "    \"\"\"Execute all tool calls from the last message in the state.\"\"\"\n",
    "    outputs = []\n",
    "    for tool_call in state[\"messages\"][-1].tool_calls:\n",
    "        tool_result = tools_by_name[tool_call[\"name\"]].invoke(tool_call[\"args\"])\n",
    "        outputs.append(\n",
    "            ToolMessage(\n",
    "                content=json.dumps(tool_result),\n",
    "                name=tool_call[\"name\"],\n",
    "                tool_call_id=tool_call[\"id\"],\n",
    "            )\n",
    "        )\n",
    "    return {\"messages\": outputs}\n",
    "\n",
    "\n",
    "# model invocation node\n",
    "def call_model(state: AgentState):\n",
    "    \"\"\"Invoke the model with the current conversation state.\"\"\"\n",
    "    response = model_react.invoke({\"scratch_pad\": state[\"messages\"]})\n",
    "    return {\"messages\": [response]}\n",
    "\n",
    "\n",
    "# decision logic node\n",
    "def should_continue(state: AgentState):\n",
    "    \"\"\"Determine whether to continue with tool use or end the conversation.\"\"\"\n",
    "    messages = state[\"messages\"]\n",
    "    last_message = messages[-1]\n",
    "    # If there is no function call, then we finish\n",
    "    if not last_message.tool_calls:\n",
    "        return \"end\"\n",
    "    # Otherwise if there is, we continue\n",
    "    else:\n",
    "        return \"continue\""
   ]
  },
  {
   "cell_type": "code",
   "execution_count": 8,
   "id": "4e4ce579",
   "metadata": {},
   "outputs": [],
   "source": [
    "# creating the Graph:\n",
    "\n",
    "\n",
    "# Define a new graph\n",
    "workflow = StateGraph(AgentState)\n",
    "\n",
    "# Define the two nodes we will cycle between\n",
    "workflow.add_node(\"agent\", call_model)\n",
    "workflow.add_node(\"tools\", tool_node)\n",
    "\n",
    "# Add edges between nodes\n",
    "workflow.add_edge(\"tools\", \"agent\")  # After tools, always go back to agent\n",
    "\n",
    "# Add conditional logic\n",
    "workflow.add_conditional_edges(\n",
    "    \"agent\",\n",
    "    should_continue,\n",
    "    {\n",
    "        \"continue\": \"tools\",  # If tools needed, go to tools node\n",
    "        \"end\": END,          # If done, end the conversation\n",
    "    },\n",
    ")\n",
    "\n",
    "# Set entry point\n",
    "workflow.set_entry_point(\"agent\")\n",
    "\n",
    "# Compile the graph\n",
    "graph = workflow.compile()"
   ]
  },
  {
   "cell_type": "markdown",
   "id": "b6158f2b",
   "metadata": {},
   "source": [
    "Running the Complete ReAct Agent"
   ]
  },
  {
   "cell_type": "code",
   "execution_count": 9,
   "id": "a594e9ab",
   "metadata": {},
   "outputs": [
    {
     "name": "stdout",
     "output_type": "stream",
     "text": [
      "================================\u001b[1m Human Message \u001b[0m=================================\n",
      "\n",
      "What's the weather like in Zurich, and what should I wear based on the temperature?\n",
      "==================================\u001b[1m Ai Message \u001b[0m==================================\n",
      "Tool Calls:\n",
      "  search_tool (call_rujFFNRgwfPaKTXLGiRWV7OZ)\n",
      " Call ID: call_rujFFNRgwfPaKTXLGiRWV7OZ\n",
      "  Args:\n",
      "    query: current weather in Zurich\n",
      "=================================\u001b[1m Tool Message \u001b[0m=================================\n",
      "Name: search_tool\n",
      "\n",
      "[{\"title\": \"Weather for Z\\u00fcrich, Zurich, Switzerland - Time and Date\", \"url\": \"https://www.timeanddate.com/weather/switzerland/zurich\", \"content\": \"timeanddate.com\\nFlag for Switzerland\\n\\n# Weather in Z\\u00fcrich, Zurich, Switzerland\\n\\nPassing clouds.\\n\\nFeels Like: 76 \\u00b0F  \\nForecast: 77 / 55 \\u00b0F  \\nWind: 1 mph \\u2191 from South\\n\\n|  |  |\\n --- |\\n| Location: | Zurich-Kloten |\\n| Current Time: | Sep 20, 2025 at 9:02:20 pm |\\n| Latest Report: | Sep 20, 2025 at 8:00 pm |\\n| Visibility: | 19 mi |\\n| Pressure: | 30.01 \\\"Hg |\\n| Humidity: | 65% |\\n| Dew Point: | 61 \\u00b0F |\\n\\nLocation of Z\\u00fcrich\\nLocation\\n\\n## Upcoming 5 hours [...] | Amount of Snow | 0.00\\\" | 0.00\\\" | 0.00\\\" | 0.00\\\" | 0.00\\\" | 0.00\\\" | 0.00\\\" |\\n|  |  |  |  |  |  |  |  |\\n ---  ---  ---  --- |\\n| \\\\ Updated Saturday, September 20, 2025 3:42:51 pm Z\\u00fcrich time - Weather by CustomWeather, \\u00a9 2025 | | | | | | | | [...] |  |  |  |  |  |  |\\n ---  ---  --- |\\n| Now | 10:00 pm | 11:00 pm | 12:00 am | 1:00 am | 2:00 am |\\n|  |  |  |  |  |  |\\n| 74 \\u00b0F | 63 \\u00b0F | 62 \\u00b0F | 61 \\u00b0F | 60 \\u00b0F | 59 \\u00b0F |\\n\\nSee more hour-by-hour weather\\n\\n## Forecast for the next 48 hours\", \"score\": 0.94761914}, {\"title\": \"Weather in Z\\u00fcrich in September 2025 - Detailed Forecast\", \"url\": \"https://www.easeweather.com/europe/switzerland/zurich/september\", \"content\": \"| 20 Sept. | Sunny Sunny | 27\\u00b0 /14\\u00b0 | 0 mm | 1.3 |  |\\n| 21 Sept. | Moderate rain Moderate rain | 23\\u00b0 /12\\u00b0 | 5.8 mm | 1 |  |\\n| 22 Sept. | Moderate rain Moderate rain | 14\\u00b0 /11\\u00b0 | 18.9 mm | 0.1 |  |\\n| 23 Sept. | Patchy rain possible Patchy rain possible | 10\\u00b0 /9\\u00b0 | 2.8 mm | 0.2 |  |\\n| 24 Sept. | Moderate rain Moderate rain | 11\\u00b0 /7\\u00b0 | 15 mm | 2 |  |\\n| 25 Sept. | Partly cloudy Partly cloudy | 15\\u00b0 /6\\u00b0 | 0 mm | 3 |  |\\n| 26 Sept. | Patchy rain possible Patchy rain possible | 13\\u00b0 /7\\u00b0 | 2.2 mm | 2 |  | [...] Overcast\\nPartly cloudy\\nOvercast\\nHeavy rain at times\\nPatchy rain possible\\nMist\\nMist\\nPartly cloudy\\nLight rain shower\\nModerate or heavy rain shower\\nPatchy rain possible\\nPatchy rain possible\\nOvercast\\nLight rain shower\\nFog\\nHeavy rain at times\\nOvercast\\nOvercast\\nPatchy rain possible\\nWeather Alert\\nSunny\\nWeather Alert\\nModerate rain\\nWeather Alert\\nModerate rain\\nWeather Alert\\nPatchy rain possible\\nModerate rain\\nPartly cloudy\\nPatchy rain possible\\nPatchy rain possible\\nOvercast\\nPartly cloudy\\nPartly cloudy [...] easeweather.com\\nSwitzerland weather\\n\\n# Weather in Z\\u00fcrich for September 2025\\n\\n### Official Weather Alert \\u26a0\\ufe0f\\n\\nPossible Continuous Rain Warning - See hour by hour.\\n\\n### Temperatures\\n\\nUntil now, September 2025 in Z\\u00fcrich is cooler than usual, with temperatures averaging 19.7 \\u00b0C, this is -2.6 \\u00b0C below the typical seasonal average.\\n\\nThe forecast for the next days in Z\\u00fcrich predicts temperatures to be around 16 \\u00b0C, close to the historical average.\", \"score\": 0.88444936}, {\"title\": \"Zurich weather in September 2025 - Weather25.com\", \"url\": \"https://www.weather25.com/europe/switzerland/zurich?page=month&month=September\", \"content\": \"| 14 Mist 21\\u00b0 /12\\u00b0 | 15 Fog 23\\u00b0 /12\\u00b0 | 16 Light rain shower 21\\u00b0 /12\\u00b0 | 17 Light rain shower 20\\u00b0 /12\\u00b0 | 18 Mist 20\\u00b0 /10\\u00b0 | 19 Patchy rain possible 19\\u00b0 /8\\u00b0 | 20 Sunny 27\\u00b0 /14\\u00b0 |\\n| 21 Patchy rain possible 23\\u00b0 /12\\u00b0 | 22 Moderate rain 13\\u00b0 /10\\u00b0 | 23 Patchy rain possible 10\\u00b0 /9\\u00b0 | 24 Light rain 11\\u00b0 /7\\u00b0 | 25 Partly cloudy 15\\u00b0 /6\\u00b0 | 26 Light rain shower 13\\u00b0 /7\\u00b0 | 27 Light rain shower 14\\u00b0 /6\\u00b0 |\\n| 28 Patchy rain possible 14\\u00b0 /5\\u00b0 | 29 Cloudy 17\\u00b0 /9\\u00b0 | 30 Partly cloudy 17\\u00b0 /7\\u00b0 |  |  |  |  | [...] weather25.com\\nSearch\\nweather in Switzerland\\nRemove from your favorite locations\\nAdd to my locations\\nShare\\nweather in Switzerland\\n\\n# Zurich weather in September 2025\\n\\nClear\\nPatchy rain possible\\nModerate rain\\nPatchy rain possible\\nLight rain\\nPartly cloudy\\nLight rain shower\\nLight rain shower\\nPatchy rain possible\\nCloudy\\nPartly cloudy\\nLight rain\\nLight rain\\nLight rain shower\\n\\n## The average weather in Zurich in September [...] | Sun | Mon | Tue | Wed | Thu | Fri | Sat |\\n ---  ---  --- \\n|  | 1 Patchy rain possible 23\\u00b0 /12\\u00b0 | 2 Mist 23\\u00b0 /10\\u00b0 | 3 Sunny 24\\u00b0 /11\\u00b0 | 4 Fog 25\\u00b0 /12\\u00b0 | 5 Mist 23\\u00b0 /12\\u00b0 | 6 Mist 22\\u00b0 /11\\u00b0 |\\n| 7 Mist 24\\u00b0 /11\\u00b0 | 8 Light rain shower 23\\u00b0 /12\\u00b0 | 9 Light rain shower 22\\u00b0 /11\\u00b0 | 10 Partly cloudy 21\\u00b0 /11\\u00b0 | 11 Partly cloudy 22\\u00b0 /11\\u00b0 | 12 Fog 22\\u00b0 /10\\u00b0 | 13 Mist 21\\u00b0 /11\\u00b0 |\", \"score\": 0.87807417}, {\"title\": \"Zurich, Zurich, Switzerland Weather Forecast | AccuWeather\", \"url\": \"https://www.accuweather.com/en/ch/zurich/316622/weather-forecast/316622\", \"content\": \"Cloudy, a shower in the p.m.\\n\\nRain and drizzle\\n\\nThu\\n\\n9/25\\n\\nA little morning rain; cloudy\\n\\nRain and drizzle late\\n\\nFri\\n\\n9/26\\n\\nRain and drizzle in the a.m.\\n\\nCloudy with a touch of rain\\n\\nSat\\n\\n9/27\\n\\nA little rain in the morning\\n\\nMostly cloudy\\n\\nSun\\n\\n9/28\\n\\nClouds and sunshine\\n\\nA shower early; partly cloudy\\n\\nMon\\n\\n9/29\\n\\nSunshine and a few clouds\\n\\nMainly clear\\n\\n## Sun & Moon\\n\\n## Air Quality [...] # Zurich, Zurich\\n\\nZurich\\n\\nZurich\\n\\n## Around the Globe\\n\\nAround the Globe\\n\\n### Hurricane Tracker\\n\\n### Severe Weather\\n\\n### Radar & Maps\\n\\n### News & Features\\n\\n### Astronomy\\n\\n### Business\\n\\n### Climate\\n\\n### Health\\n\\n### Recreation\\n\\n### Sports\\n\\n### Travel\\n\\n### Warnings\\n\\n### Data Suite\\n\\n### Forensics\\n\\n### Advertising\\n\\n### Superior Accuracy\\u2122\\n\\n### Video\\n\\n## Today\\n\\n## Tonight's Weather\\n\\nSat, Sep 20\\n\\nPartly cloudy\\nLo: 60\\u00b0\\n\\nTomorrow: Sun through high clouds and very warm\\nHi: 76\\u00b0\\n\\n## Current Weather\\n\\n9:02 PM [...] ## Looking Ahead\\n\\nRain late Sunday night\\n\\n## Zurich Weather Radar\\n\\nZurich Weather Radar\\n\\n## Hourly Weather\\n\\nrain drop\\n\\nrain drop\\n\\nrain drop\\n\\nrain drop\\n\\nrain drop\\n\\nrain drop\\n\\nrain drop\\n\\nrain drop\\n\\nrain drop\\n\\nrain drop\\n\\nrain drop\\n\\nrain drop\\n\\n## 10-Day Weather Forecast\\n\\nTonight\\n\\n9/20\\n\\nPartly cloudy\\n\\nSun\\n\\n9/21\\n\\nVery warm with high clouds\\n\\nNight: Cloudy with rain late\\n\\nMon\\n\\n9/22\\n\\nCooler; a p.m. t-storm or two\\n\\nOvercast\\n\\nTue\\n\\n9/23\\n\\nCloudy, a little rain; cool\\n\\nA little rain early; cloudy\\n\\nWed\\n\\n9/24\", \"score\": 0.77446437}, {\"title\": \"2025 - Zurich, Zurich, Switzerland Monthly Weather | AccuWeather\", \"url\": \"https://www.accuweather.com/en/ch/zurich/316622/september-weather/316622\", \"content\": \"# Zurich, Zurich\\n\\nZurich\\n\\nZurich\\n\\n## Around the Globe\\n\\nAround the Globe\\n\\n### Hurricane Tracker\\n\\n### Severe Weather\\n\\n### Radar & Maps\\n\\n### News & Features\\n\\n### Astronomy\\n\\n### Business\\n\\n### Climate\\n\\n### Health\\n\\n### Recreation\\n\\n### Sports\\n\\n### Travel\\n\\n### Warnings\\n\\n### Data Suite\\n\\n### Forensics\\n\\n### Advertising\\n\\n### Superior Accuracy\\u2122\\n\\n### Video\\n\\n## Monthly\\n\\n## September\\n\\n## 2025\\n\\n## Daily\\n\\n## Temperature Graph\\n\\n## Further Ahead\\n\\nFurther Ahead\\n\\n### October 2025\\n\\n### November 2025\\n\\n### December 2025 [...] Weather Forecasts\\n\\nNew storm eyes West for late September, bringing another round of rain\\n\\n3 hours ago\\n\\nFeatured Stories\\n\\nClimate\\n\\nThe \\u2018blob\\u2019 is back \\u2014 and it stretches across the entire North Pacific\\n\\n1 day ago\\n\\nAstronomy\\n\\nSaturn to glow brighter than usual this weekend as it reaches oppositi...\\n\\n1 day ago\\n\\nDoes this radar loop show insects or birds?\\n\\nLATEST ENTRY\\n\\nExpert debunks claim about weird weather radar\\n\\n4 days ago\\n\\nHealth [...] ## Around the Globe\\n\\nAround the Globe\\n\\n### Hurricane Tracker\\n\\n### Severe Weather\\n\\n### Radar & Maps\\n\\n### News\\n\\n### Video\\n\\nTop Stories\\n\\nWeather News\\n\\nAccuWeather study: Flood risk rising as US storms grow more intense\\n\\n1 day ago\\n\\nWeather News\\n\\nMudslides damage homes, bury roads and cars in Southern California\\n\\n1 day ago\\n\\nHurricane\\n\\nGabrielle may become hurricane, 2 more areas being watched\\n\\n1 hour ago\\n\\nWeather Forecasts\\n\\nWhere\\u2019s the rain? Dry pattern grips the East\\n\\n11 minutes ago\", \"score\": 0.5942929}]\n",
      "==================================\u001b[1m Ai Message \u001b[0m==================================\n",
      "Tool Calls:\n",
      "  recommend_clothing (call_JX4rwYurXRmsIzuHXfqiEoh7)\n",
      " Call ID: call_JX4rwYurXRmsIzuHXfqiEoh7\n",
      "  Args:\n",
      "    weather: Feels Like: 76 °F, Forecast: 77 / 55 °F\n",
      "=================================\u001b[1m Tool Message \u001b[0m=================================\n",
      "Name: recommend_clothing\n",
      "\n",
      "\"A light jacket should be fine.\"\n",
      "==================================\u001b[1m Ai Message \u001b[0m==================================\n",
      "\n",
      "The current weather in Zurich is pleasant with a temperature that feels like 76 °F (about 24 °C). The forecast for today shows a high of 77 °F (around 25 °C) and a low of 55 °F (approximately 13 °C). \n",
      "\n",
      "Given this temperature, I recommend wearing a light jacket, which will keep you comfortable throughout the day. Enjoy your time in Zurich!\n"
     ]
    }
   ],
   "source": [
    "def print_stream(stream):\n",
    "    \"\"\"Helper function for formatting the stream nicely.\"\"\"\n",
    "    for s in stream:\n",
    "        message = s[\"messages\"][-1]\n",
    "        if isinstance(message, tuple):\n",
    "            print(message)\n",
    "        else:\n",
    "            message.pretty_print()\n",
    "\n",
    "inputs = {\"messages\": [HumanMessage(content=\"What's the weather like in Zurich, and what should I wear based on the temperature?\")]}\n",
    "\n",
    "print_stream(graph.stream(inputs, stream_mode=\"values\"))"
   ]
  },
  {
   "cell_type": "code",
   "execution_count": 10,
   "id": "858d237b",
   "metadata": {},
   "outputs": [
    {
     "data": {
      "image/png": "[encoded data removed]",
      "text/plain": [
       "<IPython.core.display.Image object>"
      ]
     },
     "metadata": {},
     "output_type": "display_data"
    }
   ],
   "source": [
    "from IPython.display import Image, display\n",
    "\n",
    "display(Image(graph.get_graph().draw_png()))"
   ]
  }
 ],
 "metadata": {
  "kernelspec": {
   "display_name": "Python 3",
   "language": "python",
   "name": "python3"
  },
  "language_info": {
   "codemirror_mode": {
    "name": "ipython",
    "version": 3
   },
   "file_extension": ".py",
   "mimetype": "text/x-python",
   "name": "python",
   "nbconvert_exporter": "python",
   "pygments_lexer": "ipython3",
   "version": "3.11.13"
  }
 },
 "nbformat": 4,
 "nbformat_minor": 5
}
