{
 "cells": [
  {
   "cell_type": "code",
   "execution_count": 1,
   "id": "721af25b",
   "metadata": {},
   "outputs": [
    {
     "data": {
      "text/plain": [
       "True"
      ]
     },
     "execution_count": 1,
     "metadata": {},
     "output_type": "execute_result"
    }
   ],
   "source": [
    "from langgraph.graph import StateGraph, END\n",
    "from langchain_openai import AzureChatOpenAI\n",
    "from typing import TypedDict, Optional\n",
    "import os\n",
    "from dotenv import load_dotenv\n",
    "\n",
    "# Load environment variables from .env file\n",
    "load_dotenv()"
   ]
  },
  {
   "cell_type": "code",
   "execution_count": 2,
   "id": "e4706ebb",
   "metadata": {},
   "outputs": [],
   "source": [
    "# Configure ChatOpenAI for Azure OpenAI\n",
    "deployment_name = \"gpt-4o-mini\"  # Replace with your actual deployment name\n",
    "\n",
    "openai_llm = AzureChatOpenAI(\n",
    "    azure_deployment=deployment_name,\n",
    "    api_version=os.getenv(\"OPENAI_API_VERSION\"),\n",
    "    azure_endpoint=os.getenv(\"AZURE_OPENAI_ENDPOINT\"),\n",
    "    api_key=os.getenv(\"AZURE_OPENAI_API_KEY\"),\n",
    "    temperature=0.7,\n",
    "    model_name=deployment_name,\n",
    "    max_retries=3,\n",
    "    request_timeout=120,\n",
    "    max_tokens=1024,\n",
    "    top_p=0.95   \n",
    ")"
   ]
  },
  {
   "cell_type": "code",
   "execution_count": 3,
   "id": "2dbc0304",
   "metadata": {},
   "outputs": [],
   "source": [
    "class QAState(TypedDict):\n",
    "    question: Optional[str] \n",
    "    context: Optional[str]    \n",
    "    answer: Optional[str]"
   ]
  },
  {
   "cell_type": "markdown",
   "id": "386ce29f",
   "metadata": {},
   "source": [
    "Nodes: \n",
    "- input_node (get question from state, if it's not defined return \"valid\" = False and \"error\" ) -> this is the entry point.\n",
    "- context_provider_node (check if the question is in the context. For related questions provide the context, for not related question, context will be `null`)\n",
    "- answer_node (uses the context to answer the question - if the context is null -> generic answer)\n",
    "\n",
    "Edges:\n",
    "- from input to context_provider\n",
    "- from context_provider to answer\n",
    "- from answer to END\n"
   ]
  },
  {
   "cell_type": "markdown",
   "id": "a14136d3",
   "metadata": {},
   "source": [
    "Defining the nodes:\n"
   ]
  },
  {
   "cell_type": "code",
   "execution_count": 30,
   "id": "a9e456e1",
   "metadata": {},
   "outputs": [],
   "source": [
    "def input_node(state: QAState) -> QAState:\n",
    "    # get question from state, if it's not defined return \"valid\" = False and \"error\" \n",
    "\n",
    "    question = state.get(\"question\", None).strip()\n",
    "    return {\"question\": question}\n",
    "\n",
    "def context_provider_node(state: QAState) -> QAState:\n",
    "    # check if the question is in the context. For related questions provide the context, for\n",
    "    # not related question, context will be `null`\n",
    "    question = state.get(\"question\", \"\").lower()\n",
    "    if \"langgraph\" in question:\n",
    "        context = \"Langgraph is a Python library for building state machines and workflows.\"    \n",
    "        return {\"context\": context}\n",
    "    \n",
    "    # For other questions, return null context\n",
    "    return {\"context\": None}\n",
    "\n",
    "def answer_node(state: QAState) -> QAState:\n",
    "    # uses the context to answer the question - if the context is null -> generic answer\n",
    "    question = state.get(\"question\", \"\")\n",
    "    context = state.get(\"context\", None)\n",
    "\n",
    "    if not question:\n",
    "        return {\"answer\": \"The question is empty. Please provide a valid question.\"}\n",
    "    \n",
    "    if context:\n",
    "        prompt = f\"Based on the following context, answer the question:\\nContext: {context}\\nQuestion: {question}\\nAnswer:\"\n",
    "    else:\n",
    "        return {\"answer\": \"I don't have enough information to answer that question.\"}\n",
    "    \n",
    "    response = openai_llm.invoke(prompt)\n",
    "    answer = response.content.strip()\n",
    "    \n",
    "    return {\"answer\": answer}\n",
    "        \n"
   ]
  },
  {
   "cell_type": "code",
   "execution_count": 11,
   "id": "0fde25e9",
   "metadata": {},
   "outputs": [],
   "source": [
    "# state = QAState(question=\"What is Langgraph?\", \n",
    "#         context=\"\", \n",
    "#         answer=None)\n",
    "# answer_node(state)\n",
    "\n",
    "# state = QAState(question=\"What is Langgraph?\", \n",
    "#         context=\"Langgraph is a Python library for building state machines and workflows.\", \n",
    "#         answer=None)\n",
    "# answer_node(state)"
   ]
  },
  {
   "cell_type": "code",
   "execution_count": 31,
   "id": "3558e711",
   "metadata": {},
   "outputs": [],
   "source": [
    "# Create an instance of StateGraph with the GraphState structure\n",
    "wf = StateGraph(QAState)\n",
    "\n",
    "wf.add_node(\"Input\", input_node)\n",
    "wf.add_node(\"ContextProvider\", context_provider_node)\n",
    "wf.add_node(\"Answer\", answer_node)\n",
    "\n",
    "wf.add_edge(\"Input\", \"ContextProvider\")\n",
    "wf.add_edge(\"ContextProvider\", \"Answer\")\n",
    "wf.add_edge(\"Answer\", END)\n",
    "\n",
    "wf.set_entry_point(\"Input\")\n",
    "app = wf.compile()"
   ]
  },
  {
   "cell_type": "code",
   "execution_count": null,
   "id": "d7e19092",
   "metadata": {},
   "outputs": [
    {
     "data": {
      "text/plain": [
       "{'question': '',\n",
       " 'context': None,\n",
       " 'answer': 'The question is empty. Please provide a valid question.'}"
      ]
     },
     "execution_count": 33,
     "metadata": {},
     "output_type": "execute_result"
    }
   ],
   "source": [
    "state = QAState(question=\"What is Langgraph?\", \n",
    "        context=None ,\n",
    "        answer=None)\n",
    "app.invoke(state)\n"
   ]
  },
  {
   "cell_type": "code",
   "execution_count": null,
   "id": "2a2b4fb9",
   "metadata": {},
   "outputs": [],
   "source": [
    "# %pip install grandalf"
   ]
  },
  {
   "cell_type": "code",
   "execution_count": 34,
   "id": "74c2cae3",
   "metadata": {},
   "outputs": [
    {
     "data": {
      "image/png": "[encoded data removed]",
      "text/plain": [
       "<IPython.core.display.Image object>"
      ]
     },
     "metadata": {},
     "output_type": "display_data"
    }
   ],
   "source": [
    "# Create a visual graph using grandalf\n",
    "\n",
    "# Use LangGraph's built-in visualization with grandalf\n",
    "from IPython.display import Image, display\n",
    "\n",
    "# Get the graph visualization using grandalf\n",
    "img = app.get_graph().draw_mermaid_png()\n",
    "display(Image(img))\n"
   ]
  }
 ],
 "metadata": {
  "kernelspec": {
   "display_name": "Python 3",
   "language": "python",
   "name": "python3"
  },
  "language_info": {
   "codemirror_mode": {
    "name": "ipython",
    "version": 3
   },
   "file_extension": ".py",
   "mimetype": "text/x-python",
   "name": "python",
   "nbconvert_exporter": "python",
   "pygments_lexer": "ipython3",
   "version": "3.11.13"
  }
 },
 "nbformat": 4,
 "nbformat_minor": 5
}
