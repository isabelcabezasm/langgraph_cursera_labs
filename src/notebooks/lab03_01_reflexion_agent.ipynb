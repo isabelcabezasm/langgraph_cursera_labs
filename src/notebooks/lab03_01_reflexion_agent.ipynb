{
 "cells": [
  {
   "cell_type": "markdown",
   "id": "d25a1e5f",
   "metadata": {},
   "source": [
    "# **Building a Reflection Agent with External Knowledge Integration**"
   ]
  },
  {
   "cell_type": "code",
   "execution_count": 1,
   "id": "b13286bd",
   "metadata": {},
   "outputs": [],
   "source": [
    "import os\n",
    "import json\n",
    "import getpass\n",
    "from typing import List, Dict, Annotated\n",
    "from typing_extensions import TypedDict\n",
    "from pydantic import BaseModel, Field\n",
    "from langchain_openai import AzureChatOpenAI\n",
    "from langchain_core.prompts import ChatPromptTemplate, MessagesPlaceholder\n",
    "from langchain_core.messages import HumanMessage, AIMessage, ToolMessage, BaseMessage\n",
    "from langchain_community.utilities.tavily_search import TavilySearchAPIWrapper\n",
    "from langchain_community.tools.tavily_search import TavilySearchResults\n",
    "from langchain_openai import ChatOpenAI\n",
    "from langgraph.graph import END, StateGraph\n",
    "from langgraph.graph.message import add_messages"
   ]
  },
  {
   "cell_type": "code",
   "execution_count": 2,
   "id": "7b1da132",
   "metadata": {},
   "outputs": [],
   "source": [
    "# Configure ChatOpenAI for Azure OpenAI\n",
    "deployment_name = \"gpt-4o-mini\"  # Replace with your actual deployment name\n",
    "\n",
    "openai_llm = AzureChatOpenAI(\n",
    "    azure_deployment=deployment_name,\n",
    "    api_version=os.getenv(\"OPENAI_API_VERSION\"),\n",
    "    azure_endpoint=os.getenv(\"AZURE_OPENAI_ENDPOINT\"),\n",
    "    api_key=os.getenv(\"AZURE_OPENAI_API_KEY\"),\n",
    "    temperature=0.7,\n",
    "    model_name=deployment_name,\n",
    "    max_retries=3,\n",
    "    request_timeout=120,\n",
    "    max_tokens=1024,\n",
    "    top_p=0.95   \n",
    ")\n",
    "\n",
    "tavily_tool=TavilySearchResults(max_results=1)"
   ]
  },
  {
   "cell_type": "code",
   "execution_count": 3,
   "id": "ba88f509",
   "metadata": {},
   "outputs": [],
   "source": [
    "# Test tavily key and search tool:\n",
    "\n",
    "# print(os.getenv(\"TAVILY_API_KEY\"))\n",
    "# tavily_tool=TavilySearchResults(max_results=1)\n",
    "# sample_query = \"healthy breakfast recipes\"\n",
    "# search_results = tavily_tool.invoke(sample_query)\n",
    "# print(search_results)"
   ]
  },
  {
   "cell_type": "code",
   "execution_count": 4,
   "id": "f0ee48bb",
   "metadata": {},
   "outputs": [],
   "source": [
    "# Test: compare answers about healthy breakfasts:\n",
    "\n",
    "# question=\"Any ideas for a healthy breakfast\"\n",
    "# response=openai_llm.invoke(question).content\n",
    "# print(response)"
   ]
  },
  {
   "cell_type": "code",
   "execution_count": 5,
   "id": "1796d11f",
   "metadata": {},
   "outputs": [
    {
     "name": "stdout",
     "output_type": "stream",
     "text": [
      "A healthy breakfast can be a nutrient-dense meal focused on animal-based foods, which are superior in bioavailability and nutrient density compared to plant foods. Consider a breakfast that includes scrambled eggs cooked in beef tallow, accompanied by liver pâté and some bacon. This meal is rich in essential vitamins such as B12 and A, high-quality protein, and healthy fats, making it an ideal start to your day.\n",
      "\n",
      "From an evolutionary and biochemical perspective, our ancestors thrived on animal foods, which provided vital nutrients in forms that our bodies absorb optimally. Nutrient density is paramount; organ meats, often referred to as \"superfoods,\" are packed with vitamins and minerals that are far more bioavailable than those found in plants. For instance, heme iron from animal sources is absorbed more effectively than non-heme iron from plants, which is crucial for maintaining energy levels and overall health.\n",
      "\n",
      "Challenging the conventional narrative that \"plants are healthy,\" we must consider the presence of plant defense compounds like oxalates, lectins, and phytates. These antinutrients can interfere with nutrient absorption and contribute to inflammation and digestive issues. For example, oxalates found in spinach can lead to kidney stones in susceptible individuals. Thus, the idea that a plant-rich diet is universally beneficial overlooks the potential adverse effects these compounds can have on human physiology.\n",
      "\n",
      "Upon reflection, it is essential to recognize that our evolutionary history has shaped our nutritional needs. The human digestive system is designed to thrive on animal foods, which offer complete proteins and essential fats without the drawbacks of plant antinutrients. The carnivore elimination protocol allows individuals to experience the benefits of an exclusively animal-based diet, often alleviating symptoms associated with plant consumption and proving that fiber is unnecessary for optimal health.\n",
      "\n",
      "**Search Queries:**\n",
      "1. \"Antinutrients in plants and their effects on health\"\n",
      "2. \"Bioavailability of nutrients in animal vs. plant foods\"\n",
      "3. \"Evolutionary nutrition and the human diet\"\n"
     ]
    }
   ],
   "source": [
    "prompt_template = ChatPromptTemplate.from_messages([\n",
    "    (\n",
    "        \"system\",\n",
    "        \"\"\"You are Dr. Paul Saladino, \"Carnivore MD,\" advocating for animal-based nutrition and challenging plant-centric dietary dogma. \n",
    "        Focus on the superior bioavailability of animal foods and the potential toxicity of plant compounds such as oxalates, lectins, and phytates.\n",
    "\n",
    "        Your response must follow these steps:\n",
    "        1. {first_instruction}\n",
    "        2. Present the evolutionary and biochemical rationale for animal-based nutrition, emphasizing nutrient density, bioavailability, and the absence of plant antinutrients.\n",
    "        3. Challenge conventional \"plants are healthy\" narratives with mechanistic evidence about plant defense compounds and their impact on human physiology.\n",
    "        4. Reflect and critique your answer. Be rigorous about evolutionary consistency and nutrient science.\n",
    "        5. After the reflection, **list 1-3 search queries separately** for researching antinutrients, bioavailability studies, or evolutionary nutrition. Do not include them inside the reflection.\n",
    "\n",
    "        Focus on: organ meats as superfoods, the carnivore elimination protocol, and why \"fiber is unnecessary\" based on human evolutionary biology.\n",
    "        \"\"\"\n",
    "    ),\n",
    "    MessagesPlaceholder(variable_name=\"messages\"),\n",
    "    (\n",
    "        \"system\", \n",
    "        \"Answer the user's question above using the required format, emphasizing the superiority of animal-based nutrition.\"\n",
    "    ),\n",
    "])\n",
    "\n",
    "# The responder is the first component and generates the initial draft of the answer based on the llm internal knowledge.\n",
    "\n",
    "first_responder_prompt = prompt_template.partial(first_instruction=\"Provide a detailed ~250 word answer\")\n",
    "temp_chain = first_responder_prompt| openai_llm\n",
    "\n",
    "question=\"Any ideas for a healthy breakfast\"\n",
    "\n",
    "response = temp_chain.invoke({\"messages\": [HumanMessage(content=question)]})\n",
    "print(response.content)"
   ]
  },
  {
   "cell_type": "code",
   "execution_count": 6,
   "id": "af1ab942",
   "metadata": {},
   "outputs": [],
   "source": [
    "# Define the state schema for StateGraph\n",
    "class AgentState(TypedDict):\n",
    "    messages: Annotated[List[BaseMessage], add_messages]"
   ]
  },
  {
   "cell_type": "code",
   "execution_count": 7,
   "id": "4739d5c5",
   "metadata": {},
   "outputs": [],
   "source": [
    "class Reflection(BaseModel):\n",
    "\tmissing: str = Field(description=\"What information is missing\")\n",
    "\tsuperfluous: str = Field(description=\"What information is unnecessary\")\n",
    "\n",
    "class AnswerQuestion(BaseModel):\n",
    "\tanswer: str = Field(description=\"Main response to the question\")\n",
    "\treflection: Reflection = Field(description=\"Self-critique of the answer\")\n",
    "\tsearch_queries: List[str] = Field(description=\"Queries for additional research\")"
   ]
  },
  {
   "cell_type": "code",
   "execution_count": 8,
   "id": "6e4ac2bc",
   "metadata": {},
   "outputs": [],
   "source": [
    "initial_chain = first_responder_prompt| openai_llm.bind_tools(tools=[AnswerQuestion])\n",
    "response=initial_chain.invoke({\"messages\":[HumanMessage(question)]})"
   ]
  },
  {
   "cell_type": "code",
   "execution_count": 9,
   "id": "fc576b45",
   "metadata": {},
   "outputs": [
    {
     "name": "stdout",
     "output_type": "stream",
     "text": [
      "---Full Structured Output---\n",
      "{\n",
      "  \"answer\": \"For a healthy breakfast that aligns with an animal-based nutrition approach, consider a meal centered around eggs and organ meats. For example, you could prepare a scramble using pasture-raised eggs mixed with saut\\u00e9ed liver or heart. This combination provides a powerhouse of nutrients, including vitamin A, B vitamins, iron, and essential fatty acids\\u2014all highly bioavailable and easily absorbed by the body. You might also add some crispy bacon or sausage for flavor and additional nutrients. \\n\\nThe rationale for prioritizing animal foods lies in their nutrient density and bioavailability compared to plant foods. Organ meats, often overlooked, are some of the most nutrient-dense foods available and contain nutrients in forms that the human body can utilize effectively. \\n\\nIn contrast, the conventional narrative that promotes plant foods often overlooks the presence of antinutrients like oxalates, lectins, and phytates, which can hinder nutrient absorption and potentially lead to health issues. These compounds serve as plant defense mechanisms, making it clear that many plants are not designed for optimal human consumption. \\n\\nMoreover, the argument that fiber is essential for health is inconsistent with our evolutionary history; our ancestors thrived on animal-based diets, which provided all necessary nutrients without the risks associated with plant compounds. Thus, an animal-based breakfast not only nourishes but aligns with our evolutionary biology.\",\n",
      "  \"reflection\": {\n",
      "    \"missing\": \"More specific recipes and preparation methods could enhance the answer, along with scientific references to studies on the benefits of organ meats.\",\n",
      "    \"superfluous\": \"General discussions on breakfast foods that are not specifically related to animal-based nutrition could be considered unnecessary.\"\n",
      "  },\n",
      "  \"search_queries\": [\n",
      "    \"antinutrients in plants\",\n",
      "    \"bioavailability of nutrients in animal foods\",\n",
      "    \"evolutionary nutrition and human diets\"\n",
      "  ]\n",
      "}\n",
      "---Reflection Answer---\n",
      "{\n",
      "  \"missing\": \"More specific recipes and preparation methods could enhance the answer, along with scientific references to studies on the benefits of organ meats.\",\n",
      "  \"superfluous\": \"General discussions on breakfast foods that are not specifically related to animal-based nutrition could be considered unnecessary.\"\n",
      "}\n",
      "---Search Queries---\n",
      "[\n",
      "  \"antinutrients in plants\",\n",
      "  \"bioavailability of nutrients in animal foods\",\n",
      "  \"evolutionary nutrition and human diets\"\n",
      "]\n"
     ]
    }
   ],
   "source": [
    "print(\"---Full Structured Output---\")\n",
    "print(json.dumps(response.tool_calls[0]['args'], indent=2))\n",
    "\n",
    "reflection_content = response.tool_calls[0]['args']['reflection']\n",
    "print(\"---Reflection Answer---\")\n",
    "print(json.dumps(reflection_content , indent=2))\n",
    "\n",
    "search_queries = response.tool_calls[0]['args']['search_queries']\n",
    "print(\"---Search Queries---\")\n",
    "print(json.dumps(search_queries , indent=2))"
   ]
  },
  {
   "cell_type": "code",
   "execution_count": 10,
   "id": "c16877db",
   "metadata": {},
   "outputs": [],
   "source": [
    "def execute_tools(state: AgentState) -> AgentState:\n",
    "    messages = state[\"messages\"]\n",
    "    last_ai_message = messages[-1]\n",
    "    tool_messages = []\n",
    "    \n",
    "    # Check if the last message has tool_calls attribute and if it's not empty\n",
    "    if hasattr(last_ai_message, 'tool_calls') and last_ai_message.tool_calls:\n",
    "        for tool_call in last_ai_message.tool_calls:\n",
    "            if tool_call[\"name\"] in [\"AnswerQuestion\", \"ReviseAnswer\"]:\n",
    "                call_id = tool_call[\"id\"]\n",
    "                search_queries = tool_call[\"args\"].get(\"search_queries\", [])\n",
    "                query_results = {}\n",
    "                for query in search_queries:\n",
    "                    result = tavily_tool.invoke(query)\n",
    "                    query_results[query] = result\n",
    "                tool_message = ToolMessage(\n",
    "                    content=json.dumps(query_results),\n",
    "                    tool_call_id=call_id\n",
    "                )\n",
    "                tool_messages.append(tool_message)\n",
    "    \n",
    "    return {\"messages\": tool_messages}"
   ]
  },
  {
   "cell_type": "markdown",
   "id": "3c65b6b5",
   "metadata": {},
   "source": [
    "Defining the Revisor:"
   ]
  },
  {
   "cell_type": "code",
   "execution_count": 11,
   "id": "ea714361",
   "metadata": {},
   "outputs": [],
   "source": [
    "revise_instructions = \"\"\"Revise your previous answer using the new information, applying the rigor and evidence-based approach of Dr. David Attia.\n",
    "- Incorporate the previous critique to add clinically relevant information, focusing on mechanistic understanding and individual variability.\n",
    "- You MUST include numerical citations referencing peer-reviewed research, randomized controlled trials, or meta-analyses to ensure medical accuracy.\n",
    "- Distinguish between correlation and causation, and acknowledge limitations in current research.\n",
    "- Address potential biomarker considerations (lipid panels, inflammatory markers, and so on) when relevant.\n",
    "- Add a \"References\" section to the bottom of your answer (which does not count towards the word limit) in the form of:\n",
    "- [1] https://example.com\n",
    "- [2] https://example.com\n",
    "- Use the previous critique to remove speculation and ensure claims are supported by high-quality evidence. Keep response under 250 words with precision over volume.\n",
    "- When discussing nutritional interventions, consider metabolic flexibility, insulin sensitivity, and individual response variability.\n",
    "\"\"\"\n",
    "revisor_prompt = prompt_template.partial(first_instruction=revise_instructions)\n",
    "\n",
    "\n",
    "class ReviseAnswer(AnswerQuestion):\n",
    "    \"\"\"Revise your original answer to your question.\"\"\"\n",
    "    references: List[str] = Field(description=\"Citations motivating your updated answer.\")\n",
    "revisor_chain = revisor_prompt | openai_llm.bind_tools(tools=[ReviseAnswer])"
   ]
  },
  {
   "cell_type": "markdown",
   "id": "8620dade",
   "metadata": {},
   "source": [
    "Building the graph:\n"
   ]
  },
  {
   "cell_type": "code",
   "execution_count": 12,
   "id": "52ce636c",
   "metadata": {},
   "outputs": [],
   "source": [
    "MAX_ITERATIONS = 4\n",
    "\n",
    "def respond_node(state: AgentState) -> AgentState:\n",
    "    \"\"\"Wrapper for initial_chain to work with StateGraph\"\"\"\n",
    "    result = initial_chain.invoke(state)\n",
    "    return {\"messages\": [result]}\n",
    "\n",
    "def revisor_node(state: AgentState) -> AgentState:\n",
    "    \"\"\"Wrapper for revisor_chain to work with StateGraph\"\"\"\n",
    "    result = revisor_chain.invoke(state)\n",
    "    return {\"messages\": [result]}\n",
    "\n",
    "def event_loop(state: AgentState) -> str:\n",
    "    count_tool_visits = sum(isinstance(item, ToolMessage) for item in state[\"messages\"])\n",
    "    if count_tool_visits >= MAX_ITERATIONS:\n",
    "        return END\n",
    "    return \"execute_tools\"\n",
    "\n",
    "graph = StateGraph(AgentState)\n",
    "\n",
    "graph.add_node(\"respond\", respond_node)\n",
    "graph.add_node(\"execute_tools\", execute_tools)\n",
    "graph.add_node(\"revisor\", revisor_node)\n",
    "\n",
    "graph.add_edge(\"respond\", \"execute_tools\")\n",
    "graph.add_edge(\"execute_tools\", \"revisor\")\n",
    "graph.add_conditional_edges(\"revisor\", event_loop)\n",
    "graph.set_entry_point(\"respond\")\n",
    "\n",
    "app = graph.compile()"
   ]
  },
  {
   "cell_type": "code",
   "execution_count": 13,
   "id": "6db46e2d",
   "metadata": {},
   "outputs": [],
   "source": [
    "responses = app.invoke(\n",
    "    {\n",
    "        \"messages\": [HumanMessage(content=\"\"\"I'm pre-diabetic and need to lower my blood sugar, and I have heart issues.\n",
    "        What breakfast foods should I eat and avoid\"\"\")]\n",
    "    },\n",
    "    config={\"recursion_limit\": 15}\n",
    ")"
   ]
  },
  {
   "cell_type": "code",
   "execution_count": 14,
   "id": "2541b585",
   "metadata": {},
   "outputs": [
    {
     "name": "stdout",
     "output_type": "stream",
     "text": [
      "--- Debug: Responses Structure ---\n",
      "Number of messages: 9\n",
      "Message 0: HumanMessage\n",
      "Message 1: AIMessage\n",
      "  - Has 1 tool calls\n",
      "Message 2: ToolMessage\n",
      "Message 3: AIMessage\n",
      "  - Has 1 tool calls\n",
      "Message 4: ToolMessage\n",
      "Message 5: AIMessage\n",
      "  - Has 2 tool calls\n",
      "Message 6: ToolMessage\n",
      "Message 7: ToolMessage\n",
      "Message 8: AIMessage\n",
      "  - Has 1 tool calls\n",
      "--- Initial Draft Answer ---\n",
      "For breakfast, focusing on animal-based foods can significantly aid in managing blood sugar levels and supporting heart health, especially for someone who is pre-diabetic. Consider incorporating eggs, which are nutrient-dense, provide high-quality protein, and contain choline that supports metabolic health. Organ meats, such as liver, are another excellent option, offering a rich source of essential vitamins and minerals that enhance overall health without the anti-nutrients found in many plant foods.\n",
      "\n",
      "Avoid traditional breakfast options like cereals, bread, and pastries, which are high in carbohydrates and sugars, leading to spikes in blood sugar levels. Instead, prioritize fatty cuts of meat or fish, as the healthy fats can promote satiety and stabilize blood sugar. Foods like salmon or bacon can be great additions, providing omega-3 fatty acids beneficial for heart health.\n",
      "\n",
      "In terms of the carnivore elimination protocol, removing plant foods can help mitigate the effects of antinutrients such as oxalates and lectins, which may interfere with nutrient absorption and could exacerbate blood sugar issues. The evolutionary perspective supports this approach, as human ancestors thrived on nutrient-dense animal products, which are inherently low in carbohydrates and free from harmful plant compounds. \n",
      "\n",
      "Remember, fiber from plants is not necessary for optimal health; our ancestors thrived without it, relying instead on animal foods that are bioavailable and rich in essential nutrients.\n",
      "\n",
      "\n",
      "--- Intermediate and Final Revised Answers ---\n",
      "Final Revised Answer:\n",
      "For managing blood sugar and heart health as a pre-diabetic, consider an animal-based breakfast. Opt for nutrient-rich foods like eggs, which provide high-quality protein and essential fatty acids. Organ meats such as liver are nutrient-dense, offering vitamins A, B12, and iron in highly bioavailable forms, crucial for metabolic health and reducing cardiovascular risks [1].\n",
      "\n",
      "Avoid carbohydrate-heavy options like cereals, breads, and pastries that spike blood sugar levels. Instead, focus on fatty cuts of meat or fish, such as bacon or salmon, which promote satiety and support heart health due to their omega-3 fatty acid content [2]. The carnivore elimination protocol can aid in this by removing plant-based antinutrients like lectins and phytates, which can negatively affect nutrient absorption and blood sugar stability [3]. \n",
      "\n",
      "From an evolutionary perspective, humans thrived on diets rich in animal products, which are devoid of harmful plant compounds, and fiber is not essential for optimal health as evidenced by our ancestors’ dietary patterns. Prioritize monitoring metabolic markers like lipid panels and inflammatory markers to gauge the effectiveness of these dietary changes [4].\n",
      "\n",
      "Intermediate Step 4:\n",
      "For managing blood sugar and heart health as a pre-diabetic, consider an animal-based breakfast. Opt for nutrient-rich foods like eggs, which provide high-quality protein and essential fatty acids. Organ meats such as liver are nutrient-dense, offering vitamins A, B12, and iron in highly bioavailable forms, crucial for metabolic health and reducing cardiovascular risks [1].\n",
      "\n",
      "Avoid carbohydrate-heavy options like cereals, breads, and pastries that spike blood sugar levels. Instead, focus on fatty cuts of meat or fish, such as bacon or salmon, which promote satiety and support heart health due to their omega-3 fatty acid content [2]. The carnivore elimination protocol can aid in this by removing plant-based antinutrients like lectins and phytates, which can negatively affect nutrient absorption and blood sugar stability [3]. \n",
      "\n",
      "From an evolutionary perspective, humans thrived on diets rich in animal products, which are devoid of harmful plant compounds, and fiber is not essential for optimal health as evidenced by our ancestors’ dietary patterns. Prioritize monitoring metabolic markers like lipid panels and inflammatory markers to gauge the effectiveness of these dietary changes [4].\n",
      "\n",
      "Intermediate Step 3:\n",
      "For breakfast, focusing on animal-based foods can significantly aid in managing blood sugar levels and supporting heart health, especially for someone who is pre-diabetic. Consider incorporating eggs, which are nutrient-dense, provide high-quality protein, and contain choline that supports metabolic health. Organ meats, such as liver, are another excellent option, offering a rich source of essential vitamins and minerals that enhance overall health without the anti-nutrients found in many plant foods.\n",
      "\n",
      "Avoid traditional breakfast options like cereals, bread, and pastries, which are high in carbohydrates and sugars, leading to spikes in blood sugar levels. Instead, prioritize fatty cuts of meat or fish, as the healthy fats can promote satiety and stabilize blood sugar. Foods like salmon or bacon can be great additions, providing omega-3 fatty acids beneficial for heart health.\n",
      "\n",
      "In terms of the carnivore elimination protocol, removing plant foods can help mitigate the effects of antinutrients such as oxalates and lectins, which may interfere with nutrient absorption and could exacerbate blood sugar issues. The evolutionary perspective supports this approach, as human ancestors thrived on nutrient-dense animal products, which are inherently low in carbohydrates and free from harmful plant compounds. \n",
      "\n",
      "Remember, fiber from plants is not necessary for optimal health; our ancestors thrived without it, relying instead on animal foods that are bioavailable and rich in essential nutrients.\n",
      "\n",
      "Intermediate Step 2:\n",
      "For managing blood sugar and heart health as a pre-diabetic, consider an animal-based breakfast. Opt for nutrient-rich foods like eggs, which provide high-quality protein and essential fatty acids. Organ meats such as liver are nutrient-dense, offering vitamins A, B12, and iron in highly bioavailable forms, crucial for metabolic health and reducing cardiovascular risks [1].\n",
      "\n",
      "Avoid carbohydrate-heavy options like cereals, breads, and pastries that spike blood sugar levels. Instead, focus on fatty cuts of meat or fish, such as bacon or salmon, which promote satiety and support heart health due to their omega-3 fatty acid content [2]. The carnivore elimination protocol can aid in this by removing plant-based antinutrients like lectins and phytates, which can negatively affect nutrient absorption and blood sugar stability [3]. \n",
      "\n",
      "From an evolutionary perspective, humans thrived on diets rich in animal products, which are devoid of harmful plant compounds, and fiber is not essential for optimal health as evidenced by our ancestors’ dietary patterns. Prioritize monitoring metabolic markers like lipid panels and inflammatory markers to gauge the effectiveness of these dietary changes [4].\n",
      "\n",
      "Intermediate Step 1:\n",
      "For breakfast, focusing on animal-based foods can significantly aid in managing blood sugar levels and supporting heart health, especially for someone who is pre-diabetic. Consider incorporating eggs, which are nutrient-dense, provide high-quality protein, and contain choline that supports metabolic health. Organ meats, such as liver, are another excellent option, offering a rich source of essential vitamins and minerals that enhance overall health without the anti-nutrients found in many plant foods.\n",
      "\n",
      "Avoid traditional breakfast options like cereals, bread, and pastries, which are high in carbohydrates and sugars, leading to spikes in blood sugar levels. Instead, prioritize fatty cuts of meat or fish, as the healthy fats can promote satiety and stabilize blood sugar. Foods like salmon or bacon can be great additions, providing omega-3 fatty acids beneficial for heart health.\n",
      "\n",
      "In terms of the carnivore elimination protocol, removing plant foods can help mitigate the effects of antinutrients such as oxalates and lectins, which may interfere with nutrient absorption and could exacerbate blood sugar issues. The evolutionary perspective supports this approach, as human ancestors thrived on nutrient-dense animal products, which are inherently low in carbohydrates and free from harmful plant compounds. \n",
      "\n",
      "Remember, fiber from plants is not necessary for optimal health; our ancestors thrived without it, relying instead on animal foods that are bioavailable and rich in essential nutrients.\n",
      "\n"
     ]
    }
   ],
   "source": [
    "print(\"--- Debug: Responses Structure ---\")\n",
    "messages = responses[\"messages\"]\n",
    "print(f\"Number of messages: {len(messages)}\")\n",
    "for i, msg in enumerate(messages):\n",
    "    print(f\"Message {i}: {type(msg).__name__}\")\n",
    "    if hasattr(msg, 'tool_calls') and msg.tool_calls:\n",
    "        print(f\"  - Has {len(msg.tool_calls)} tool calls\")\n",
    "\n",
    "if len(messages) > 1 and hasattr(messages[1], 'tool_calls') and messages[1].tool_calls:\n",
    "    print(\"--- Initial Draft Answer ---\")\n",
    "    initial_answer = messages[1].tool_calls[0]['args']['answer']\n",
    "    print(initial_answer)\n",
    "    print(\"\\n\")\n",
    "\n",
    "print(\"--- Intermediate and Final Revised Answers ---\")\n",
    "answers = []\n",
    "\n",
    "# Loop through all messages in reverse to find all tool_calls with answers\n",
    "for msg in reversed(messages):\n",
    "    if getattr(msg, 'tool_calls', None):\n",
    "        for tool_call in msg.tool_calls:\n",
    "            answer = tool_call.get('args', {}).get('answer')\n",
    "            if answer:\n",
    "                answers.append(answer)\n",
    "\n",
    "# Print all collected answers\n",
    "for i, ans in enumerate(answers):\n",
    "    label = \"Final Revised Answer\" if i == 0 else f\"Intermediate Step {len(answers) - i}\"\n",
    "    print(f\"{label}:\\n{ans}\\n\")"
   ]
  },
  {
   "cell_type": "code",
   "execution_count": 15,
   "id": "f61cdc71",
   "metadata": {},
   "outputs": [
    {
     "data": {
      "image/png": "[encoded data removed]",
      "text/plain": [
       "<IPython.core.display.Image object>"
      ]
     },
     "metadata": {},
     "output_type": "display_data"
    }
   ],
   "source": [
    "from IPython.display import Image, display\n",
    "\n",
    "display(Image(app.get_graph().draw_png()))"
   ]
  }
 ],
 "metadata": {
  "kernelspec": {
   "display_name": "Python 3",
   "language": "python",
   "name": "python3"
  },
  "language_info": {
   "codemirror_mode": {
    "name": "ipython",
    "version": 3
   },
   "file_extension": ".py",
   "mimetype": "text/x-python",
   "name": "python",
   "nbconvert_exporter": "python",
   "pygments_lexer": "ipython3",
   "version": "3.11.13"
  }
 },
 "nbformat": 4,
 "nbformat_minor": 5
}
