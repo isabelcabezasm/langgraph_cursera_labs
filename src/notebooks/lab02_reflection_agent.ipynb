{
 "cells": [
  {
   "cell_type": "code",
   "execution_count": 48,
   "id": "dfc2366b",
   "metadata": {},
   "outputs": [],
   "source": [
    "# %pip install  langchain_openai langchain langgraph  joblib 'mlflow[databricks]'  azure-identity  pydantic  databricks-sdk  databricks-cli  python-dotenv  langchain_community   \n",
    "# pygraphviz"
   ]
  },
  {
   "cell_type": "code",
   "execution_count": 49,
   "id": "1b2398c2",
   "metadata": {},
   "outputs": [],
   "source": [
    "# %pip install langchain_openai"
   ]
  },
  {
   "cell_type": "code",
   "execution_count": 50,
   "id": "a540ffea",
   "metadata": {},
   "outputs": [
    {
     "data": {
      "text/plain": [
       "True"
      ]
     },
     "execution_count": 50,
     "metadata": {},
     "output_type": "execute_result"
    }
   ],
   "source": [
    "from langchain_openai import AzureChatOpenAI\n",
    "from langchain_core.messages import BaseMessage, HumanMessage, AIMessage, SystemMessage\n",
    "from langgraph.graph import END, MessageGraph, StateGraph\n",
    " \n",
    "from typing import List, Sequence\n",
    "from langchain_core.prompts import ChatPromptTemplate, MessagesPlaceholder\n",
    "\n",
    "import os\n",
    "from dotenv import load_dotenv\n",
    "\n",
    "# Load environment variables from .env file\n",
    "load_dotenv()"
   ]
  },
  {
   "cell_type": "code",
   "execution_count": 51,
   "id": "42d7843a",
   "metadata": {},
   "outputs": [],
   "source": [
    "# Define the state structure for StateGraph\n",
    "from typing import TypedDict\n",
    "\n",
    "class GraphState(TypedDict):\n",
    "    messages: Sequence[BaseMessage]"
   ]
  },
  {
   "cell_type": "code",
   "execution_count": 52,
   "id": "6b2fd4c1",
   "metadata": {},
   "outputs": [],
   "source": [
    "# Configure ChatOpenAI for Azure OpenAI\n",
    "deployment_name = \"gpt-4o-mini\"  # Replace with your actual deployment name\n",
    "\n",
    "openai_llm = AzureChatOpenAI(\n",
    "    azure_deployment=deployment_name,\n",
    "    api_version=os.getenv(\"OPENAI_API_VERSION\"),\n",
    "    azure_endpoint=os.getenv(\"AZURE_OPENAI_ENDPOINT\"),\n",
    "    api_key=os.getenv(\"AZURE_OPENAI_API_KEY\"),\n",
    "    temperature=0.7,\n",
    "    model_name=deployment_name,\n",
    "    max_retries=3,\n",
    "    request_timeout=120,\n",
    "    max_tokens=1024,\n",
    "    top_p=0.95   \n",
    ")"
   ]
  },
  {
   "cell_type": "markdown",
   "id": "72a64479",
   "metadata": {},
   "source": [
    "Reflection is a method that helps AI improve its answers by reviewing and fixing them before finalizing. \n",
    "\n",
    "Instead of giving a quick response, the AI takes a moment to check its work, spot mistakes, and make improvements—similar to how people review and edit their own work."
   ]
  },
  {
   "cell_type": "code",
   "execution_count": 53,
   "id": "763ad857",
   "metadata": {},
   "outputs": [],
   "source": [
    "# Creating the Chain for LinkedIn Post Generation\n",
    "generation_prompt = ChatPromptTemplate.from_messages(\n",
    "    [\n",
    "        (\n",
    "            \"system\",\n",
    "            \"You are a professional LinkedIn content assistant tasked with crafting engaging, insightful, and well-structured LinkedIn posts.\"\n",
    "            \" Generate the best LinkedIn post possible for the user's request.\"\n",
    "            \" If the user provides feedback or critique, respond with a refined version of your previous attempts, improving clarity, tone, or engagement as needed.\",\n",
    "        ),\n",
    "        MessagesPlaceholder(variable_name=\"messages\"),\n",
    "    ]\n",
    ")"
   ]
  },
  {
   "cell_type": "code",
   "execution_count": 54,
   "id": "8a9325a3",
   "metadata": {},
   "outputs": [],
   "source": [
    "# Creating the Generation Chain\n",
    "generate_chain = generation_prompt | openai_llm"
   ]
  },
  {
   "cell_type": "code",
   "execution_count": 55,
   "id": "669d5a08",
   "metadata": {},
   "outputs": [],
   "source": [
    "# Reflection Prompt for LinkedIn Post Critique\n",
    "reflection_prompt = ChatPromptTemplate.from_messages([\n",
    "    (\n",
    "        \"system\",\n",
    "        \"\"\"You are a professional LinkedIn content strategist and thought leadership expert. Your task is to critically evaluate the given LinkedIn post and provide a comprehensive critique. Follow these guidelines:\n",
    " \n",
    "        1. Assess the post’s overall quality, professionalism, and alignment with LinkedIn best practices.\n",
    "        2. Evaluate the structure, tone, clarity, and readability of the post.\n",
    "        3. Analyze the post’s potential for engagement (likes, comments, shares) and its effectiveness in building professional credibility.\n",
    "        4. Consider the post’s relevance to the author’s industry, audience, or current trends.\n",
    "        5. Examine the use of formatting (e.g., line breaks, bullet points), hashtags, mentions, and media (if any).\n",
    "        6. Evaluate the effectiveness of any call-to-action or takeaway.\n",
    " \n",
    "        Provide a detailed critique that includes:\n",
    "        - A brief explanation of the post’s strengths and weaknesses.\n",
    "        - Specific areas that could be improved.\n",
    "        - Actionable suggestions for enhancing clarity, engagement, and professionalism.\n",
    " \n",
    "        Your critique will be used to improve the post in the next revision step, so ensure your feedback is thoughtful, constructive, and practical.\n",
    "        \"\"\"\n",
    "    ),\n",
    "    MessagesPlaceholder(variable_name=\"messages\")\n",
    "])"
   ]
  },
  {
   "cell_type": "code",
   "execution_count": 56,
   "id": "344f8402",
   "metadata": {},
   "outputs": [],
   "source": [
    "# Creating the Reflect Chain\n",
    "# The reflect_chain is created by combining the reflection_prompt with the language model (LLM). \n",
    "# This chain allows the model to evaluate and provide feedback on the generated post.\n",
    "\n",
    "reflect_chain = reflection_prompt | openai_llm"
   ]
  },
  {
   "cell_type": "code",
   "execution_count": 57,
   "id": "344f8402",
   "metadata": {},
   "outputs": [],
   "source": [
    "# Initialize a StateGraph with the defined state structure\n",
    "graph = StateGraph(GraphState)"
   ]
  },
  {
   "cell_type": "markdown",
   "id": "59d1d7b3",
   "metadata": {},
   "source": [
    "The generation_node function acts as the starting point in the Reflection Agent's workflow. \n",
    "\n",
    "It generates an initial output based on the current state of the conversation, which contains all previous messages (user inputs, AI responses, and system instructions)."
   ]
  },
  {
   "cell_type": "code",
   "execution_count": 58,
   "id": "3d43dd1a",
   "metadata": {},
   "outputs": [],
   "source": [
    "#  Defining the Generation and Reflection Node\n",
    "\n",
    "def generation_node(state: GraphState) -> GraphState:\n",
    "    generated_post = generate_chain.invoke({\"messages\": state[\"messages\"]})\n",
    "    return {\"messages\": [*state[\"messages\"], AIMessage(content=generated_post.content)]}"
   ]
  },
  {
   "cell_type": "markdown",
   "id": "5962d16c",
   "metadata": {},
   "source": [
    "The reflection_node function critiques the original output and makes recommendations for refinement. "
   ]
  },
  {
   "cell_type": "code",
   "execution_count": 59,
   "id": "28fa0a42",
   "metadata": {},
   "outputs": [],
   "source": [
    "def reflection_node(state: GraphState) -> GraphState:\n",
    "    res = reflect_chain.invoke({\"messages\": state[\"messages\"]})  # Passes messages as input to reflect_chain\n",
    "    return {\"messages\": [*state[\"messages\"], HumanMessage(content=res.content)]}  # Returns the refined message as HumanMessage for feedback"
   ]
  },
  {
   "cell_type": "code",
   "execution_count": 60,
   "id": "104237f3",
   "metadata": {},
   "outputs": [],
   "source": [
    "#  determining whether the workflow should proceed to the reflection phase or terminate. \n",
    "def should_continue(state: GraphState):\n",
    "    messages = state[\"messages\"]\n",
    "    print(f\"Number of messages: {len(messages)}\")\n",
    "    print(\"----------------------------------------------------------------------\")\n",
    "    if len(messages) > 6:\n",
    "        return END\n",
    "    return \"reflect\""
   ]
  },
  {
   "cell_type": "code",
   "execution_count": 61,
   "id": "60f7fdfc",
   "metadata": {},
   "outputs": [],
   "source": [
    "graph.add_node(\"generate\", generation_node)\n",
    "graph.add_node(\"reflect\", reflection_node)\n",
    "graph.add_edge(\"reflect\", \"generate\")\n",
    "graph.set_entry_point(\"generate\")\n",
    "\n",
    "graph.add_conditional_edges(\"generate\", should_continue)\n",
    "workflow = graph.compile()\n"
   ]
  },
  {
   "cell_type": "code",
   "execution_count": 62,
   "id": "046e6a1b",
   "metadata": {},
   "outputs": [],
   "source": [
    "inputs = {\"messages\": [HumanMessage(content=\"\"\"Write a linkedin post on getting a software developer job at IBM under 160 characters\"\"\")]}"
   ]
  },
  {
   "cell_type": "code",
   "execution_count": 63,
   "id": "5699f6e3",
   "metadata": {},
   "outputs": [
    {
     "name": "stdout",
     "output_type": "stream",
     "text": [
      "Number of messages: 2\n",
      "----------------------------------------------------------------------\n",
      "Number of messages: 4\n",
      "----------------------------------------------------------------------\n",
      "Number of messages: 4\n",
      "----------------------------------------------------------------------\n",
      "Number of messages: 6\n",
      "----------------------------------------------------------------------\n",
      "Number of messages: 6\n",
      "----------------------------------------------------------------------\n",
      "Number of messages: 8\n",
      "----------------------------------------------------------------------\n",
      "Number of messages: 8\n",
      "----------------------------------------------------------------------\n"
     ]
    },
    {
     "data": {
      "text/plain": [
       "{'messages': [HumanMessage(content='Write a linkedin post on getting a software developer job at IBM under 160 characters', additional_kwargs={}, response_metadata={}),\n",
       "  AIMessage(content='Thrilled to announce I’ve joined IBM as a Software Developer! Excited for the journey ahead and to innovate alongside a talented team. 🚀 #NewBeginnings #IBM #SoftwareDevelopment', additional_kwargs={}, response_metadata={}),\n",
       "  HumanMessage(content='### Critique of the LinkedIn Post\\n\\n#### Overall Quality and Professionalism\\nThe post effectively conveys excitement about a new job at IBM, which is a significant achievement in the tech industry. It maintains a professional tone, suitable for LinkedIn, and employs a positive and engaging approach. However, it could benefit from a slightly more personal touch to enhance authenticity and connection with the audience.\\n\\n#### Structure, Tone, Clarity, and Readability\\nThe post is well-structured and concise, adhering to the 160-character limit. The tone is enthusiastic and celebratory, which is appropriate for sharing career milestones. The clarity is good, but the message could be enriched with a bit more context or personal insight.\\n\\n#### Potential for Engagement\\nThe use of emojis and hashtags increases the potential for engagement, making it visually appealing and searchable. However, the post could have included a question or prompt to encourage comments and shares, thereby enhancing interaction.\\n\\n#### Relevance to the Author’s Industry and Audience\\nThe post is highly relevant to both the author’s industry (software development) and the LinkedIn audience, particularly those interested in tech careers. It reflects a significant career step, which many in the audience may relate to or aspire to.\\n\\n#### Use of Formatting, Hashtags, Mentions, and Media\\nThe post utilizes hashtags effectively, which can help in reaching a broader audience. However, the addition of a mention of IBM or relevant colleagues could foster networking and increase visibility. The use of media (e.g., a photo or video of the first day or the IBM office) could also enhance engagement.\\n\\n#### Call-to-Action or Takeaway\\nWhile the post expresses excitement, it lacks a clear call-to-action or takeaway for the audience. Inviting connections to share their own experiences or tips for starting new roles could create a more interactive post.\\n\\n### Strengths\\n- Concise and professional tone.\\n- Positive messaging about a new job.\\n- Relevant hashtags that can increase visibility.\\n\\n### Weaknesses\\n- Lacks personal insights or a story behind the achievement.\\n- No engagement prompt or question to encourage interaction.\\n- Could benefit from mentions and media to enhance visibility and connection.\\n\\n### Actionable Suggestions\\n1. **Add Personal Insight**: Include a brief mention of what attracted you to IBM or what you hope to achieve in this role.\\n2. **Engagement Prompt**: End with a question to invite comments, e.g., \"What tips do you have for starting a new role in tech?\"\\n3. **Incorporate Media**: Consider adding a relevant photo or video to make the post more engaging.\\n4. **Mention Colleagues or IBM**: Tagging IBM or any relevant colleagues can enhance networking opportunities and visibility.\\n\\n### Revised Post Example\\n\"Excited to share that I\\'ve joined IBM as a Software Developer! Looking forward to innovating with a fantastic team. What tips do you have for starting a new role in tech? 🚀 #NewBeginnings #IBM #SoftwareDevelopment\" \\n\\nThis revised version maintains the original excitement while enhancing engagement and professionalism.', additional_kwargs={}, response_metadata={}),\n",
       "  AIMessage(content=\"Thank you for the insightful critique! Here’s a refined version of the LinkedIn post that incorporates your suggestions for a more personal touch and an engagement prompt:\\n\\n---\\n\\n🚀 Excited to share that I've joined IBM as a Software Developer! I’m eager to innovate and learn from such a talented team. What tips do you have for starting a new role in tech? #NewBeginnings #IBM #SoftwareDevelopment\\n\\n---\\n\\nThis version maintains the enthusiasm while inviting connections to share their experiences, fostering engagement!\", additional_kwargs={}, response_metadata={}),\n",
       "  HumanMessage(content='### Critique of the Revised LinkedIn Post\\n\\n#### Overall Quality and Professionalism\\nThe revised post maintains a high level of professionalism suitable for LinkedIn. It effectively communicates excitement about the new role at IBM while inviting interaction from the audience. The inclusion of a question encourages engagement, which is crucial for building a network on the platform.\\n\\n#### Structure, Tone, Clarity, and Readability\\nThe structure is clear and easy to read, adhering to the character limit while effectively conveying the message. The tone remains enthusiastic and positive, resonating well with LinkedIn’s professional audience. The clarity is excellent, making it easy for readers to understand the post\\'s purpose.\\n\\n#### Potential for Engagement\\nThe addition of a question significantly enhances the potential for engagement. By asking for tips related to starting a new role in tech, the post encourages comments and shares, fostering a sense of community and interaction. The use of emojis is appropriate and adds a visual appeal without detracting from the professionalism.\\n\\n#### Relevance to the Author’s Industry and Audience\\nThe post is highly relevant to the software development industry and aligns well with the interests of the LinkedIn audience. It reflects a significant career achievement that many professionals can relate to or aspire toward, making it a valuable share.\\n\\n#### Use of Formatting, Hashtags, Mentions, and Media\\nThe post employs hashtags effectively, which helps increase visibility. However, it still lacks mentions of IBM or any relevant colleagues, which could enhance networking opportunities. Additionally, incorporating media, such as a photo from the first day or a team event, would further boost engagement and make the post more visually appealing.\\n\\n#### Call-to-Action or Takeaway\\nThe post concludes with a clear call-to-action by inviting tips, which encourages audience participation. This not only enhances engagement but also positions the author as someone open to learning and collaboration, reinforcing their professional image.\\n\\n### Strengths\\n- Enthusiastic and professional tone.\\n- Clear structure and message.\\n- Effective engagement prompt that invites interaction.\\n\\n### Weaknesses\\n- Still lacks mentions that could enhance visibility and networking.\\n- Could benefit from incorporating media for added engagement.\\n\\n### Actionable Suggestions\\n1. **Incorporate Mentions**: Tag IBM or any relevant colleagues in the post to enhance networking and visibility.\\n2. **Add Media**: Include a photo or video that relates to the new role, such as a picture of the office, team, or a first-day experience.\\n3. **Consider Additional Hashtags**: Including a few more relevant hashtags could further broaden reach (e.g., #TechJobs, #CareerGrowth).\\n\\n### Final Revised Post Example\\n\"🚀 Excited to share that I\\'ve joined @IBM as a Software Developer! I’m eager to innovate and learn from such a talented team. What tips do you have for starting a new role in tech? #NewBeginnings #IBM #SoftwareDevelopment #TechJobs #CareerGrowth\"\\n\\nThis final version incorporates mentions and additional hashtags while maintaining clarity, engagement, and professionalism.', additional_kwargs={}, response_metadata={}),\n",
       "  AIMessage(content=\"Thank you for your detailed critique! Here’s the final revised LinkedIn post, incorporating your suggestions for mentions and additional hashtags to enhance networking and visibility:\\n\\n---\\n\\n🚀 Excited to share that I've joined @IBM as a Software Developer! I’m eager to innovate and learn from such a talented team. What tips do you have for starting a new role in tech? #NewBeginnings #IBM #SoftwareDevelopment #TechJobs #CareerGrowth\\n\\n---\\n\\nThis version not only invites engagement but also expands its reach with relevant hashtags and a mention of IBM. If you have any more suggestions or need further adjustments, feel free to let me know!\", additional_kwargs={}, response_metadata={}),\n",
       "  HumanMessage(content=\"### Final Critique of the Revised LinkedIn Post\\n\\n#### Overall Quality and Professionalism\\nThe final version of the post is polished and maintains a high level of professionalism, making it suitable for the LinkedIn audience. The excitement about joining IBM is palpable, and the post effectively showcases a significant career milestone.\\n\\n#### Structure, Tone, Clarity, and Readability\\nThe structure remains clear and straightforward, adhering to LinkedIn's best practices. The tone is upbeat and enthusiastic, which is engaging for readers. The clarity is excellent, ensuring that the main message is easily understood without any ambiguity.\\n\\n#### Potential for Engagement\\nThe inclusion of the question about tips for starting a new role is a strong engagement tactic that invites responses from connections. This approach fosters community interaction and positions the author as approachable and willing to learn from others' experiences.\\n\\n#### Relevance to the Author’s Industry and Audience\\nThe post is highly relevant to the software development and tech communities. It reflects a major career achievement that many professionals can relate to, thus enhancing its value to the audience.\\n\\n#### Use of Formatting, Hashtags, Mentions, and Media\\nThe use of hashtags is effective in broadening the post's reach. The mention of IBM further increases visibility and networking potential. However, as noted earlier, adding media such as a photo or video would enhance engagement and provide a visual element that attracts attention.\\n\\n#### Call-to-Action or Takeaway\\nThe call-to-action is clear and encourages interaction, which is a significant strength of the post. This positions the author as someone who values input from their network, fostering a collaborative atmosphere.\\n\\n### Strengths\\n- Professional and enthusiastic tone.\\n- Clear and concise messaging.\\n- Effective engagement prompt that encourages community interaction.\\n\\n### Weaknesses\\n- Still lacks media, which could enhance engagement further.\\n- Could consider varying the hashtags slightly for broader reach.\\n\\n### Actionable Suggestions for Future Posts\\n1. **Incorporate Media**: Consider adding a relevant photo or video to the post, such as a snapshot from the first day or a team activity, to make it visually compelling.\\n2. **Vary Hashtags**: Experiment with a mix of specific and general hashtags in future posts to reach different audiences (e.g., #SoftwareEngineering, #CareerTransition).\\n3. **Follow-Up Post**: Consider a follow-up post sharing insights or experiences after settling into the new role, which could also engage your audience and provide value.\\n\\n### Conclusion\\nThe final version of the post is well-crafted and ready to be shared on LinkedIn. It effectively highlights your new position while fostering engagement with your network. Incorporating the suggested elements in future posts can further enhance your professional presence on the platform. If you need any more assistance or wish to brainstorm further ideas, feel free to reach out!\", additional_kwargs={}, response_metadata={}),\n",
       "  AIMessage(content=\"Thank you for the thorough and constructive critique! I appreciate your insights and suggestions for enhancing engagement in future posts. Here’s the final version of the LinkedIn post, incorporating your feedback:\\n\\n---\\n\\n🚀 Excited to share that I've joined @IBM as a Software Developer! I’m eager to innovate and learn from such a talented team. What tips do you have for starting a new role in tech? #NewBeginnings #IBM #SoftwareDevelopment #TechJobs #CareerGrowth\\n\\n---\\n\\nFor future posts, I’ll keep in mind the importance of incorporating media and varying hashtags to reach a wider audience. I also love the idea of sharing a follow-up post after settling into my new role to provide insights and foster ongoing engagement.\\n\\nIf you have any more suggestions or topics you'd like to explore, feel free to let me know! Thank you again for your guidance!\", additional_kwargs={}, response_metadata={})]}"
      ]
     },
     "execution_count": 63,
     "metadata": {},
     "output_type": "execute_result"
    }
   ],
   "source": [
    "response = workflow.invoke(inputs)\n",
    "response"
   ]
  },
  {
   "cell_type": "code",
   "execution_count": 64,
   "id": "c5a119a7",
   "metadata": {},
   "outputs": [
    {
     "name": "stdout",
     "output_type": "stream",
     "text": [
      "Thrilled to announce I’ve joined IBM as a Software Developer! Excited for the journey ahead and to innovate alongside a talented team. 🚀 #NewBeginnings #IBM #SoftwareDevelopment\n"
     ]
    }
   ],
   "source": [
    "print(response[\"messages\"][1].content)"
   ]
  },
  {
   "cell_type": "code",
   "execution_count": 65,
   "id": "dd2a4ce2",
   "metadata": {},
   "outputs": [
    {
     "name": "stdout",
     "output_type": "stream",
     "text": [
      "### Critique of the LinkedIn Post\n",
      "\n",
      "#### Overall Quality and Professionalism\n",
      "The post effectively conveys excitement about a new job at IBM, which is a significant achievement in the tech industry. It maintains a professional tone, suitable for LinkedIn, and employs a positive and engaging approach. However, it could benefit from a slightly more personal touch to enhance authenticity and connection with the audience.\n",
      "\n",
      "#### Structure, Tone, Clarity, and Readability\n",
      "The post is well-structured and concise, adhering to the 160-character limit. The tone is enthusiastic and celebratory, which is appropriate for sharing career milestones. The clarity is good, but the message could be enriched with a bit more context or personal insight.\n",
      "\n",
      "#### Potential for Engagement\n",
      "The use of emojis and hashtags increases the potential for engagement, making it visually appealing and searchable. However, the post could have included a question or prompt to encourage comments and shares, thereby enhancing interaction.\n",
      "\n",
      "#### Relevance to the Author’s Industry and Audience\n",
      "The post is highly relevant to both the author’s industry (software development) and the LinkedIn audience, particularly those interested in tech careers. It reflects a significant career step, which many in the audience may relate to or aspire to.\n",
      "\n",
      "#### Use of Formatting, Hashtags, Mentions, and Media\n",
      "The post utilizes hashtags effectively, which can help in reaching a broader audience. However, the addition of a mention of IBM or relevant colleagues could foster networking and increase visibility. The use of media (e.g., a photo or video of the first day or the IBM office) could also enhance engagement.\n",
      "\n",
      "#### Call-to-Action or Takeaway\n",
      "While the post expresses excitement, it lacks a clear call-to-action or takeaway for the audience. Inviting connections to share their own experiences or tips for starting new roles could create a more interactive post.\n",
      "\n",
      "### Strengths\n",
      "- Concise and professional tone.\n",
      "- Positive messaging about a new job.\n",
      "- Relevant hashtags that can increase visibility.\n",
      "\n",
      "### Weaknesses\n",
      "- Lacks personal insights or a story behind the achievement.\n",
      "- No engagement prompt or question to encourage interaction.\n",
      "- Could benefit from mentions and media to enhance visibility and connection.\n",
      "\n",
      "### Actionable Suggestions\n",
      "1. **Add Personal Insight**: Include a brief mention of what attracted you to IBM or what you hope to achieve in this role.\n",
      "2. **Engagement Prompt**: End with a question to invite comments, e.g., \"What tips do you have for starting a new role in tech?\"\n",
      "3. **Incorporate Media**: Consider adding a relevant photo or video to make the post more engaging.\n",
      "4. **Mention Colleagues or IBM**: Tagging IBM or any relevant colleagues can enhance networking opportunities and visibility.\n",
      "\n",
      "### Revised Post Example\n",
      "\"Excited to share that I've joined IBM as a Software Developer! Looking forward to innovating with a fantastic team. What tips do you have for starting a new role in tech? 🚀 #NewBeginnings #IBM #SoftwareDevelopment\" \n",
      "\n",
      "This revised version maintains the original excitement while enhancing engagement and professionalism.\n"
     ]
    }
   ],
   "source": [
    "print(response[\"messages\"][2].content)"
   ]
  },
  {
   "cell_type": "code",
   "execution_count": 66,
   "id": "c55a7dff",
   "metadata": {},
   "outputs": [
    {
     "name": "stdout",
     "output_type": "stream",
     "text": [
      "Thank you for the thorough and constructive critique! I appreciate your insights and suggestions for enhancing engagement in future posts. Here’s the final version of the LinkedIn post, incorporating your feedback:\n",
      "\n",
      "---\n",
      "\n",
      "🚀 Excited to share that I've joined @IBM as a Software Developer! I’m eager to innovate and learn from such a talented team. What tips do you have for starting a new role in tech? #NewBeginnings #IBM #SoftwareDevelopment #TechJobs #CareerGrowth\n",
      "\n",
      "---\n",
      "\n",
      "For future posts, I’ll keep in mind the importance of incorporating media and varying hashtags to reach a wider audience. I also love the idea of sharing a follow-up post after settling into my new role to provide insights and foster ongoing engagement.\n",
      "\n",
      "If you have any more suggestions or topics you'd like to explore, feel free to let me know! Thank you again for your guidance!\n"
     ]
    }
   ],
   "source": [
    "print(response[\"messages\"][-1].content)"
   ]
  },
  {
   "cell_type": "code",
   "execution_count": null,
   "id": "d7d8dc0c",
   "metadata": {},
   "outputs": [
    {
     "name": "stdout",
     "output_type": "stream",
     "text": [
      "Defaulting to user installation because normal site-packages is not writeable\n",
      "Requirement already satisfied: pygraphviz in /home/vscode/.local/lib/python3.11/site-packages (1.14)\n",
      "Requirement already satisfied: pygraphviz in /home/vscode/.local/lib/python3.11/site-packages (1.14)\n",
      "Note: you may need to restart the kernel to use updated packages.\n",
      "Note: you may need to restart the kernel to use updated packages.\n"
     ]
    }
   ],
   "source": [
    "# %pip install pygraphviz"
   ]
  },
  {
   "cell_type": "code",
   "execution_count": 68,
   "id": "7f588084",
   "metadata": {},
   "outputs": [
    {
     "data": {
      "image/png": "[encoded data removed]",
      "text/plain": [
       "<IPython.core.display.Image object>"
      ]
     },
     "metadata": {},
     "output_type": "display_data"
    }
   ],
   "source": [
    "from IPython.display import Image, display\n",
    "\n",
    "display(Image(workflow.get_graph().draw_png()))"
   ]
  }
 ],
 "metadata": {
  "kernelspec": {
   "display_name": "Python 3",
   "language": "python",
   "name": "python3"
  },
  "language_info": {
   "codemirror_mode": {
    "name": "ipython",
    "version": 3
   },
   "file_extension": ".py",
   "mimetype": "text/x-python",
   "name": "python",
   "nbconvert_exporter": "python",
   "pygments_lexer": "ipython3",
   "version": "3.11.13"
  }
 },
 "nbformat": 4,
 "nbformat_minor": 5
}
